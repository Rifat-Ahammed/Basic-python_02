{
 "cells": [
  {
   "cell_type": "code",
   "execution_count": 9,
   "id": "deaf889a",
   "metadata": {},
   "outputs": [
    {
     "name": "stdout",
     "output_type": "stream",
     "text": [
      "Enter employee id: 101\n",
      "Enter employee salary: 52000\n",
      " Salary update for employee 101\n",
      "101 {'name': 'Rakib', 'designation': 'Softwer eng.', 'age': 28, 'salary': 52000}\n",
      "102 {'name': 'Rifat', 'designation': 'Data analyst.', 'age': 27, 'salary': 40000}\n",
      "103 {'name': 'Safia', 'designation': 'DevOps eng.', 'age': 30, 'salary': 55000}\n",
      "104 {'name': 'Ahammed', 'designation': 'Team leader', 'age': 33, 'salary': 80000}\n"
     ]
    }
   ],
   "source": [
    "# global declared global dict \n",
    "nested_dict = {101: {\"name\": \"Rakib\", \"designation\": \"Softwer eng.\", \"age\": 28, \"salary\": 50000}, \n",
    "               102: {\"name\": \"Rifat\", \"designation\": \"Data analyst.\", \"age\": 27, \"salary\": 40000},\n",
    "               103: {\"name\": \"Safia\", \"designation\": \"DevOps eng.\", \"age\": 30, \"salary\": 55000},\n",
    "               104: {\"name\": \"Ahammed\", \"designation\": \"Team leader\", \"age\": 33, \"salary\": 80000},\n",
    "              }\n",
    "\n",
    "# this function for updating salary \n",
    "def update_salary(emp_id, new_salary):\n",
    "    \n",
    "    if emp_id in nested_dict:\n",
    "        nested_dict[emp_id][\"salary\"] = new_salary\n",
    "        print(f\" Salary update for employee {emp_id}\")\n",
    "    else:\n",
    "        print(f\" Employee with ID {emp_id} not found\")\n",
    "\n",
    "emp_id = int(input(\"Enter employee id: \"))\n",
    "salary = int(input(\"Enter employee salary: \"))\n",
    "\n",
    "update_salary(emp_id, salary)\n",
    "\n",
    "for key, value in nested_dict.items():\n",
    "    print(key, value)"
   ]
  },
  {
   "cell_type": "code",
   "execution_count": null,
   "id": "9469bcbf",
   "metadata": {},
   "outputs": [],
   "source": []
  }
 ],
 "metadata": {
  "kernelspec": {
   "display_name": "Python 3 (ipykernel)",
   "language": "python",
   "name": "python3"
  },
  "language_info": {
   "codemirror_mode": {
    "name": "ipython",
    "version": 3
   },
   "file_extension": ".py",
   "mimetype": "text/x-python",
   "name": "python",
   "nbconvert_exporter": "python",
   "pygments_lexer": "ipython3",
   "version": "3.11.3"
  }
 },
 "nbformat": 4,
 "nbformat_minor": 5
}
