{
 "cells": [
  {
   "cell_type": "code",
   "execution_count": 3,
   "id": "cbbdc61d",
   "metadata": {},
   "outputs": [
    {
     "name": "stdout",
     "output_type": "stream",
     "text": [
      "Elements 1: 2 times\n",
      "Elements 2: 2 times\n",
      "Elements 3: 3 times\n",
      "Elements 4: 2 times\n",
      "Elements 5: 3 times\n",
      "Elements 6: 1 times\n",
      "Elements 7: 1 times\n"
     ]
    }
   ],
   "source": [
    "nested_list = [[1, 2, 3, 4], [2, 3, 5], [4, 5, 6], [1, 3, 5, 7]]\n",
    "\n",
    "# dict for storing key and value\n",
    "element_count = {}\n",
    "\n",
    "for i in nested_list:\n",
    "    for j in i:\n",
    "        if j in element_count:\n",
    "            element_count[j] += 1\n",
    "        else:\n",
    "            element_count[j] = 1\n",
    "            \n",
    "for element, count in element_count.items():\n",
    "    print(f\"Elements {element}: {count} times\")"
   ]
  },
  {
   "cell_type": "code",
   "execution_count": null,
   "id": "b8ec8b1b",
   "metadata": {},
   "outputs": [],
   "source": []
  }
 ],
 "metadata": {
  "kernelspec": {
   "display_name": "Python 3 (ipykernel)",
   "language": "python",
   "name": "python3"
  },
  "language_info": {
   "codemirror_mode": {
    "name": "ipython",
    "version": 3
   },
   "file_extension": ".py",
   "mimetype": "text/x-python",
   "name": "python",
   "nbconvert_exporter": "python",
   "pygments_lexer": "ipython3",
   "version": "3.11.3"
  }
 },
 "nbformat": 4,
 "nbformat_minor": 5
}
