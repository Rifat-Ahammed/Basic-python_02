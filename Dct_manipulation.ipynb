{
 "cells": [
  {
   "cell_type": "code",
   "execution_count": 3,
   "id": "0bf5eb51",
   "metadata": {},
   "outputs": [
    {
     "name": "stdout",
     "output_type": "stream",
     "text": [
      "Intial dictonar:  {'barnd': 'lenovo', 'model': 'legion', 'RAM': 16, 'Storage': 512, 'graphics': 'RTX-3050'}\n",
      "Final dictionary:  {'barnd': 'lenovo', 'model': 'legion', 'RAM': 16, 'Storage': 512, 'graphics': 'RTX-3050', 'screen-size': 15.6}\n"
     ]
    }
   ],
   "source": [
    "dct = {\"barnd\": \"lenovo\",\n",
    "       \"model\": \"legion\",\n",
    "       \"RAM\": 16,\n",
    "       \"Storage\": 512,\n",
    "       \"graphics\": \"RTX-3050\"\n",
    "      }\n",
    "\n",
    "print(\"Intial dictonar: \", dct)\n",
    "\n",
    "# adding new key and value\n",
    "dct[\"screen-size\"] = 15.6\n",
    "\n",
    "print(\"Final dictionary: \", dct)"
   ]
  },
  {
   "cell_type": "code",
   "execution_count": null,
   "id": "8806e9bc",
   "metadata": {},
   "outputs": [],
   "source": []
  }
 ],
 "metadata": {
  "kernelspec": {
   "display_name": "Python 3 (ipykernel)",
   "language": "python",
   "name": "python3"
  },
  "language_info": {
   "codemirror_mode": {
    "name": "ipython",
    "version": 3
   },
   "file_extension": ".py",
   "mimetype": "text/x-python",
   "name": "python",
   "nbconvert_exporter": "python",
   "pygments_lexer": "ipython3",
   "version": "3.11.3"
  }
 },
 "nbformat": 4,
 "nbformat_minor": 5
}
