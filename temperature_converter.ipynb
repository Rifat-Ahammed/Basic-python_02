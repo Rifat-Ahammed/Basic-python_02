{
 "cells": [
  {
   "cell_type": "code",
   "execution_count": 4,
   "id": "75c67e2d",
   "metadata": {},
   "outputs": [
    {
     "name": "stdout",
     "output_type": "stream",
     "text": [
      "Enter temperature value: 34.56\n",
      "Enter temperature scale: c\n",
      "34.56 C is  62.76 F\n"
     ]
    }
   ],
   "source": [
    "def temperature_conver(t, s):\n",
    "    \n",
    "    def celcius_to_Farhenheit(c):\n",
    "        return c * 9/5 + 5/9\n",
    "    \n",
    "    def farenheit_to_celcius(f):\n",
    "        return (f - 32) * 5/9\n",
    "    \n",
    "    if s.upper() == 'C':\n",
    "        return f\"{t} C is {celcius_to_Farhenheit(t): .2f} F\"\n",
    "    elif s.upper() == 'F':\n",
    "        return f\"{t} C is {farenheit_to_celcius(t): .2f} C\"\n",
    "    else:\n",
    "        return \"Invalid scale\"\n",
    "    \n",
    "    \n",
    "temp_value = float(input(\"Enter temperature value: \"))\n",
    "temp_scale = input(\"Enter temperature scale: \")\n",
    "\n",
    "result = temperature_conver(temp_value, temp_scale)\n",
    "print(result)"
   ]
  },
  {
   "cell_type": "code",
   "execution_count": null,
   "id": "fe5479a8",
   "metadata": {},
   "outputs": [],
   "source": []
  }
 ],
 "metadata": {
  "kernelspec": {
   "display_name": "Python 3 (ipykernel)",
   "language": "python",
   "name": "python3"
  },
  "language_info": {
   "codemirror_mode": {
    "name": "ipython",
    "version": 3
   },
   "file_extension": ".py",
   "mimetype": "text/x-python",
   "name": "python",
   "nbconvert_exporter": "python",
   "pygments_lexer": "ipython3",
   "version": "3.11.3"
  }
 },
 "nbformat": 4,
 "nbformat_minor": 5
}
