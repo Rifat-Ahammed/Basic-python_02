{
 "cells": [
  {
   "cell_type": "code",
   "execution_count": 3,
   "id": "8804262f",
   "metadata": {},
   "outputs": [
    {
     "name": "stdout",
     "output_type": "stream",
     "text": [
      "Enter a number: 4\n",
      "Elements: 5\n",
      "Elements: 8\n",
      "Elements: 3\n",
      "Elements: 1\n",
      "Maximum value is: 8\n",
      "Minimum value is: 1\n"
     ]
    }
   ],
   "source": [
    "n = int(input(\"Enter a number: \"))\n",
    "\n",
    "lst = []\n",
    "\n",
    "for i in range (0, n):\n",
    "    elements = int(input(\"Elements: \"))\n",
    "    lst.append(elements)\n",
    "    \n",
    "lst.sort()\n",
    "\n",
    "print(f\"Maximum value is: {lst[-1]}\")\n",
    "print(f\"Minimum value is: {lst[0]}\")"
   ]
  }
 ],
 "metadata": {
  "kernelspec": {
   "display_name": "Python 3 (ipykernel)",
   "language": "python",
   "name": "python3"
  },
  "language_info": {
   "codemirror_mode": {
    "name": "ipython",
    "version": 3
   },
   "file_extension": ".py",
   "mimetype": "text/x-python",
   "name": "python",
   "nbconvert_exporter": "python",
   "pygments_lexer": "ipython3",
   "version": "3.11.3"
  }
 },
 "nbformat": 4,
 "nbformat_minor": 5
}
