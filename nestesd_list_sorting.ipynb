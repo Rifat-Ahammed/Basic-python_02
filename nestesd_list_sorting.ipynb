{
 "cells": [
  {
   "cell_type": "code",
   "execution_count": 18,
   "id": "783556ec",
   "metadata": {},
   "outputs": [
    {
     "name": "stdout",
     "output_type": "stream",
     "text": [
      "sorted nested list:  [[9, 8, 4], [8, 10, 23, 5], [1, 2, 3, 4], [2, 3, 4, 5, 6]]\n"
     ]
    }
   ],
   "source": [
    "lst = [[1, 2, 3, 4],\n",
    "       [2, 3, 4, 5, 6],\n",
    "       [8, 10, 23, 5],\n",
    "       [9, 8, 4]]\n",
    "\n",
    "# itarates over each sublist.\n",
    "for i in range(len(lst)):\n",
    "    # itarates over sublist after i+1.\n",
    "    for j in range(i+1, len(lst)):\n",
    "        # here is coparing 1st sublit and 2nd sublist based on length. \n",
    "        if len(lst[i]) > len(lst[j]):\n",
    "            \n",
    "            lst[i], lst[j] = lst[j], lst[i]\n",
    "           \n",
    "    \n",
    "print(\"Sorted nested list: \", lst)"
   ]
  },
  {
   "cell_type": "code",
   "execution_count": null,
   "id": "6b761813",
   "metadata": {},
   "outputs": [],
   "source": []
  }
 ],
 "metadata": {
  "kernelspec": {
   "display_name": "Python 3 (ipykernel)",
   "language": "python",
   "name": "python3"
  },
  "language_info": {
   "codemirror_mode": {
    "name": "ipython",
    "version": 3
   },
   "file_extension": ".py",
   "mimetype": "text/x-python",
   "name": "python",
   "nbconvert_exporter": "python",
   "pygments_lexer": "ipython3",
   "version": "3.11.3"
  }
 },
 "nbformat": 4,
 "nbformat_minor": 5
}
