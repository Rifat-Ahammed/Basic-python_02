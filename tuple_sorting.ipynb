{
 "cells": [
  {
   "cell_type": "code",
   "execution_count": 4,
   "id": "571ccc9a",
   "metadata": {},
   "outputs": [
    {
     "name": "stdout",
     "output_type": "stream",
     "text": [
      "(1, 2, 3, 4, 5, 7, 17, 20)\n"
     ]
    }
   ],
   "source": [
    "tup = (2, 3, 4, 7, 5, 1, 20, 17)\n",
    "\n",
    "sorted_tup = sorted(tup)\n",
    "cnv_tup = tuple(sorted_tup)\n",
    "\n",
    "print(\"Sorted Tuple: \", cnv_tup)"
   ]
  },
  {
   "cell_type": "code",
   "execution_count": null,
   "id": "c4d987ab",
   "metadata": {},
   "outputs": [],
   "source": []
  }
 ],
 "metadata": {
  "kernelspec": {
   "display_name": "Python 3 (ipykernel)",
   "language": "python",
   "name": "python3"
  },
  "language_info": {
   "codemirror_mode": {
    "name": "ipython",
    "version": 3
   },
   "file_extension": ".py",
   "mimetype": "text/x-python",
   "name": "python",
   "nbconvert_exporter": "python",
   "pygments_lexer": "ipython3",
   "version": "3.11.3"
  }
 },
 "nbformat": 4,
 "nbformat_minor": 5
}
