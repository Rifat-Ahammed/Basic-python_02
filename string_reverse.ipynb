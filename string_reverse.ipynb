{
 "cells": [
  {
   "cell_type": "markdown",
   "id": "5aebdee1",
   "metadata": {},
   "source": [
    "# string reverse using slice method"
   ]
  },
  {
   "cell_type": "code",
   "execution_count": 7,
   "id": "3266f418",
   "metadata": {},
   "outputs": [
    {
     "name": "stdout",
     "output_type": "stream",
     "text": [
      "Write a string: hello world\n",
      "dlrow olleh\n"
     ]
    }
   ],
   "source": [
    "def reverse_string(x):\n",
    "    \n",
    "    return x[::-1]\n",
    "\n",
    "s = input(\"Write a string: \")\n",
    "rev = reverse_string(s)\n",
    "print(rev)"
   ]
  },
  {
   "cell_type": "markdown",
   "id": "023c384d",
   "metadata": {},
   "source": [
    "# Using loop"
   ]
  },
  {
   "cell_type": "code",
   "execution_count": 17,
   "id": "40cf8208",
   "metadata": {},
   "outputs": [
    {
     "name": "stdout",
     "output_type": "stream",
     "text": [
      "String: hello world\n",
      "dlrow olleh\n"
     ]
    }
   ],
   "source": [
    "s = input(\"String: \")\n",
    "\n",
    "reverse = []\n",
    "\n",
    "l = len(s)\n",
    "while l > 0:\n",
    "    \n",
    "    reverse += s[l - 1]\n",
    "    l -= 1\n",
    "convert = ''.join(reverse) # here just converting list to string\n",
    "\n",
    "print(convert)"
   ]
  },
  {
   "cell_type": "markdown",
   "id": "265f1dad",
   "metadata": {},
   "source": [
    "# using Join method "
   ]
  },
  {
   "cell_type": "code",
   "execution_count": 19,
   "id": "208b6a76",
   "metadata": {},
   "outputs": [
    {
     "name": "stdout",
     "output_type": "stream",
     "text": [
      "Enter any string: hello\n",
      "olleh\n"
     ]
    }
   ],
   "source": [
    "s = input(\"Enter any string: \")\n",
    "\n",
    "rev = \"\".join(reversed(s)) # reversed is a python builtin funtion\n",
    "print(rev)"
   ]
  }
 ],
 "metadata": {
  "kernelspec": {
   "display_name": "Python 3 (ipykernel)",
   "language": "python",
   "name": "python3"
  },
  "language_info": {
   "codemirror_mode": {
    "name": "ipython",
    "version": 3
   },
   "file_extension": ".py",
   "mimetype": "text/x-python",
   "name": "python",
   "nbconvert_exporter": "python",
   "pygments_lexer": "ipython3",
   "version": "3.11.3"
  }
 },
 "nbformat": 4,
 "nbformat_minor": 5
}
