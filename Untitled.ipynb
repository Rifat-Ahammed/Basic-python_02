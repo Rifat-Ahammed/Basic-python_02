{
 "cells": [
  {
   "cell_type": "code",
   "execution_count": 2,
   "id": "c016060d",
   "metadata": {},
   "outputs": [
    {
     "name": "stdout",
     "output_type": "stream",
     "text": [
      "5\n"
     ]
    }
   ],
   "source": [
    "my_dct = {'name': 'Rifat',\n",
    "          'study': 'informatics',\n",
    "          'university': 'KU',\n",
    "          'age': 25,\n",
    "          'hobby': 'learning new tech'\n",
    "         }\n",
    "\n",
    "length_dct = len(my_dct)\n",
    "\n",
    "print(\"Length of dict: \", length_dct)"
   ]
  },
  {
   "cell_type": "markdown",
   "id": "a581b8a9",
   "metadata": {},
   "source": [
    "# dict.keys() method"
   ]
  },
  {
   "cell_type": "code",
   "execution_count": 14,
   "id": "a0b5b860",
   "metadata": {},
   "outputs": [
    {
     "name": "stdout",
     "output_type": "stream",
     "text": [
      "Length of dict:  5\n"
     ]
    }
   ],
   "source": [
    "my_dct = {'name': 'Rifat',\n",
    "          'study': 'informatics',\n",
    "          'university': 'KU',\n",
    "          'age': 25,\n",
    "          'hobby': 'learning new tech'\n",
    "         }\n",
    "\n",
    "length_dct = len(my_dct.keys())\n",
    "\n",
    "print(\"Length of dict: \", length_dct)"
   ]
  },
  {
   "cell_type": "markdown",
   "id": "710fb490",
   "metadata": {},
   "source": [
    "# dict.values() method"
   ]
  },
  {
   "cell_type": "code",
   "execution_count": 13,
   "id": "fb33a204",
   "metadata": {},
   "outputs": [
    {
     "name": "stdout",
     "output_type": "stream",
     "text": [
      "Length of dict:  5\n"
     ]
    }
   ],
   "source": [
    "my_dct = {'name': 'Rifat',\n",
    "          'study': 'informatics',\n",
    "          'university': 'KU',\n",
    "          'age': 25,\n",
    "          'hobby': 'learning new tech'\n",
    "         }\n",
    "\n",
    "length_dct = len(my_dct.values())\n",
    "\n",
    "print(\"Length of dict: \", length_dct)"
   ]
  },
  {
   "cell_type": "markdown",
   "id": "990df19b",
   "metadata": {},
   "source": [
    "# using loop to count method"
   ]
  },
  {
   "cell_type": "code",
   "execution_count": 12,
   "id": "c12e9a0c",
   "metadata": {},
   "outputs": [
    {
     "name": "stdout",
     "output_type": "stream",
     "text": [
      "name -> Rifat\n",
      "study -> informatics\n",
      "university -> KU\n",
      "age -> 25\n",
      "hobby -> learning new tech\n",
      "Length of dict:  5\n"
     ]
    }
   ],
   "source": [
    "my_dct = {'name': 'Rifat',\n",
    "          'study': 'informatics',\n",
    "          'university': 'KU',\n",
    "          'age': 25,\n",
    "          'hobby': 'learning new tech'\n",
    "         }\n",
    "\n",
    "count = 0\n",
    "\n",
    "for key, value in my_dct.items():\n",
    "    count += 1\n",
    "    print(f\"{key} -> {value}\")\n",
    "\n",
    "print(\"Length of dict: \", count)"
   ]
  },
  {
   "cell_type": "code",
   "execution_count": null,
   "id": "4695c860",
   "metadata": {},
   "outputs": [],
   "source": []
  }
 ],
 "metadata": {
  "kernelspec": {
   "display_name": "Python 3 (ipykernel)",
   "language": "python",
   "name": "python3"
  },
  "language_info": {
   "codemirror_mode": {
    "name": "ipython",
    "version": 3
   },
   "file_extension": ".py",
   "mimetype": "text/x-python",
   "name": "python",
   "nbconvert_exporter": "python",
   "pygments_lexer": "ipython3",
   "version": "3.11.3"
  }
 },
 "nbformat": 4,
 "nbformat_minor": 5
}
