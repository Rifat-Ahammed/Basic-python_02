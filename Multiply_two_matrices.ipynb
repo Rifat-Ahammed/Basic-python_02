{
 "cells": [
  {
   "cell_type": "markdown",
   "id": "6700c254",
   "metadata": {},
   "source": [
    " # Multiply two matrices"
   ]
  },
  {
   "cell_type": "code",
   "execution_count": 2,
   "id": "edfb20ec",
   "metadata": {},
   "outputs": [
    {
     "name": "stdout",
     "output_type": "stream",
     "text": [
      "[213, 143, 72, 309]\n",
      "[213, 154, 85, 394]\n",
      "[377, 222, 104, 315]\n"
     ]
    }
   ],
   "source": [
    "# 3*3 matrix\n",
    "\n",
    "x = [[6, 7, 9],\n",
    "    [10, 3, 12],\n",
    "    [11, 15, 5]]\n",
    "\n",
    "# 3*4 matrix\n",
    "\n",
    "y = [[12, 7, 4, 10],\n",
    "    [15, 8, 3, 6],\n",
    "    [4, 5, 3, 23]]\n",
    "\n",
    "# result will be 3*4 matrix\n",
    "\n",
    "result = [[0, 0, 0, 0],\n",
    "         [0, 0, 0, 0],\n",
    "         [0, 0, 0, 0]]\n",
    "\n",
    "# first loop for number of x's rows\n",
    "for i in range(len(x)):\n",
    "    # second loop for number of y's column\n",
    "    for j in range(len(y[0])):\n",
    "        #third loop for number of y's rpws\n",
    "        for k in range (len(y)):\n",
    "            result[i][j] += x[i][k] * y[k][j]\n",
    "            \n",
    "for r in result:\n",
    "    print(r)"
   ]
  },
  {
   "cell_type": "code",
   "execution_count": null,
   "id": "7d521143",
   "metadata": {},
   "outputs": [],
   "source": []
  }
 ],
 "metadata": {
  "kernelspec": {
   "display_name": "Python 3 (ipykernel)",
   "language": "python",
   "name": "python3"
  },
  "language_info": {
   "codemirror_mode": {
    "name": "ipython",
    "version": 3
   },
   "file_extension": ".py",
   "mimetype": "text/x-python",
   "name": "python",
   "nbconvert_exporter": "python",
   "pygments_lexer": "ipython3",
   "version": "3.11.3"
  }
 },
 "nbformat": 4,
 "nbformat_minor": 5
}
