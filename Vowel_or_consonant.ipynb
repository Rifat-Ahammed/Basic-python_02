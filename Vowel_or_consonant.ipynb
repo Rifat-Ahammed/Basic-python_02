{
 "cells": [
  {
   "cell_type": "markdown",
   "id": "35d19001",
   "metadata": {},
   "source": [
    "# single character using while loop"
   ]
  },
  {
   "cell_type": "code",
   "execution_count": 3,
   "id": "6a2c3c69",
   "metadata": {},
   "outputs": [
    {
     "name": "stdout",
     "output_type": "stream",
     "text": [
      "Enter a single character: b\n",
      "Consonant\n"
     ]
    }
   ],
   "source": [
    "c = ''\n",
    "\n",
    "while True:\n",
    "    \n",
    "    c = input(\"Enter a single character: \")\n",
    "    if len(c) > 1:\n",
    "        break\n",
    "    else:\n",
    "        if (c == 'a' or c =='A' or c == 'e' or c == 'E' or c == 'i' or c == 'I'\n",
    "           or c == 'o' or c == 'O' or c == 'U' or c == 'u'):\n",
    "            print(\"Vowel\")\n",
    "        \n",
    "        else:\n",
    "            print(\"Consonant\")\n",
    "        \n",
    "        break\n",
    "        "
   ]
  }
 ],
 "metadata": {
  "kernelspec": {
   "display_name": "Python 3 (ipykernel)",
   "language": "python",
   "name": "python3"
  },
  "language_info": {
   "codemirror_mode": {
    "name": "ipython",
    "version": 3
   },
   "file_extension": ".py",
   "mimetype": "text/x-python",
   "name": "python",
   "nbconvert_exporter": "python",
   "pygments_lexer": "ipython3",
   "version": "3.11.3"
  }
 },
 "nbformat": 4,
 "nbformat_minor": 5
}
