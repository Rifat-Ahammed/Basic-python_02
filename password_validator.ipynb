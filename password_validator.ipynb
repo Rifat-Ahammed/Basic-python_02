{
 "cells": [
  {
   "cell_type": "code",
   "execution_count": 1,
   "id": "0f041261",
   "metadata": {},
   "outputs": [
    {
     "name": "stdout",
     "output_type": "stream",
     "text": [
      "Enter your password: sjhdgfkshv\n",
      "Invalid password. try again\n",
      "Enter your password: Abvchf12\n",
      "Password accepted\n"
     ]
    }
   ],
   "source": [
    " while True:\n",
    "        \n",
    "        password = input(\"Enter your password: \")\n",
    "        \n",
    "        if (len(password) >= 8 and\n",
    "            # any is a built in function that return true. if at least\n",
    "            # one elementof an itereable is true. \n",
    "            any (char.isupper() for char in password) and \n",
    "            any (char.islower() for char in password) and\n",
    "            any (char.isdigit() for char in password)):\n",
    "            \n",
    "            print(\"Password accepted\")\n",
    "            break\n",
    "        else:\n",
    "            print(\"Invalid password. try again\")\n",
    "        \n",
    "        "
   ]
  },
  {
   "cell_type": "code",
   "execution_count": null,
   "id": "5e353aa4",
   "metadata": {},
   "outputs": [],
   "source": []
  }
 ],
 "metadata": {
  "kernelspec": {
   "display_name": "Python 3 (ipykernel)",
   "language": "python",
   "name": "python3"
  },
  "language_info": {
   "codemirror_mode": {
    "name": "ipython",
    "version": 3
   },
   "file_extension": ".py",
   "mimetype": "text/x-python",
   "name": "python",
   "nbconvert_exporter": "python",
   "pygments_lexer": "ipython3",
   "version": "3.11.3"
  }
 },
 "nbformat": 4,
 "nbformat_minor": 5
}
