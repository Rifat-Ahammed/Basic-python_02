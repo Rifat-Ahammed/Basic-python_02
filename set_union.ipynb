{
 "cells": [
  {
   "cell_type": "markdown",
   "id": "9153a44d",
   "metadata": {},
   "source": [
    "# Using Union method"
   ]
  },
  {
   "cell_type": "code",
   "execution_count": 1,
   "id": "15200f60",
   "metadata": {},
   "outputs": [
    {
     "name": "stdout",
     "output_type": "stream",
     "text": [
      "{1, 2, 3, 4, 5, 6}\n"
     ]
    }
   ],
   "source": [
    "x = {1, 2, 3, 4}\n",
    "y = {5, 6, 2, 3}\n",
    "\n",
    "z = x.union(y)\n",
    "\n",
    "print(z)"
   ]
  },
  {
   "cell_type": "markdown",
   "id": "b2d3657f",
   "metadata": {},
   "source": [
    "# using set operator"
   ]
  },
  {
   "cell_type": "code",
   "execution_count": 2,
   "id": "ffcb6c34",
   "metadata": {},
   "outputs": [
    {
     "name": "stdout",
     "output_type": "stream",
     "text": [
      "Result:  {'book', 'java', 'apple', 'python', 'pen', 'banana', 'mango'}\n"
     ]
    }
   ],
   "source": [
    "A = {'apple', 'banana', 'python', 'book'}\n",
    "B = {'mango', 'java', 'banana', 'pen'}\n",
    "\n",
    "S = A | B\n",
    "\n",
    "print(\"Result: \", S)"
   ]
  },
  {
   "cell_type": "code",
   "execution_count": null,
   "id": "8c5bf08a",
   "metadata": {},
   "outputs": [],
   "source": []
  }
 ],
 "metadata": {
  "kernelspec": {
   "display_name": "Python 3 (ipykernel)",
   "language": "python",
   "name": "python3"
  },
  "language_info": {
   "codemirror_mode": {
    "name": "ipython",
    "version": 3
   },
   "file_extension": ".py",
   "mimetype": "text/x-python",
   "name": "python",
   "nbconvert_exporter": "python",
   "pygments_lexer": "ipython3",
   "version": "3.11.3"
  }
 },
 "nbformat": 4,
 "nbformat_minor": 5
}
